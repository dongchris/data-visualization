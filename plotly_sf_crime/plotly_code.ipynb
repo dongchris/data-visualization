{
 "cells": [
  {
   "cell_type": "markdown",
   "metadata": {},
   "source": [
    "# Time-Series Visualization using plotly"
   ]
  },
  {
   "cell_type": "markdown",
   "metadata": {},
   "source": [
    "# Chris Dong"
   ]
  },
  {
   "cell_type": "code",
   "execution_count": 1,
   "metadata": {},
   "outputs": [],
   "source": [
    "import pandas as pd\n",
    "import numpy as np\n",
    "import plotly.plotly as py\n",
    "import plotly.graph_objs as go\n",
    "import plotly"
   ]
  },
  {
   "cell_type": "code",
   "execution_count": 2,
   "metadata": {},
   "outputs": [],
   "source": [
    "crimes = pd.read_csv(\"Monthly_Property_Crime_2005_to_2015.csv\")"
   ]
  },
  {
   "cell_type": "code",
   "execution_count": 3,
   "metadata": {},
   "outputs": [
    {
     "data": {
      "text/plain": [
       "(792, 3)"
      ]
     },
     "execution_count": 3,
     "metadata": {},
     "output_type": "execute_result"
    }
   ],
   "source": [
    "crimes.shape"
   ]
  },
  {
   "cell_type": "code",
   "execution_count": 4,
   "metadata": {},
   "outputs": [
    {
     "data": {
      "text/html": [
       "<div>\n",
       "<style>\n",
       "    .dataframe thead tr:only-child th {\n",
       "        text-align: right;\n",
       "    }\n",
       "\n",
       "    .dataframe thead th {\n",
       "        text-align: left;\n",
       "    }\n",
       "\n",
       "    .dataframe tbody tr th {\n",
       "        vertical-align: top;\n",
       "    }\n",
       "</style>\n",
       "<table border=\"1\" class=\"dataframe\">\n",
       "  <thead>\n",
       "    <tr style=\"text-align: right;\">\n",
       "      <th></th>\n",
       "      <th>Date</th>\n",
       "      <th>Category</th>\n",
       "      <th>IncidntNum</th>\n",
       "    </tr>\n",
       "  </thead>\n",
       "  <tbody>\n",
       "    <tr>\n",
       "      <th>0</th>\n",
       "      <td>02/01/2014 12:00:00 AM</td>\n",
       "      <td>BURGLARY</td>\n",
       "      <td>506</td>\n",
       "    </tr>\n",
       "    <tr>\n",
       "      <th>1</th>\n",
       "      <td>02/01/2007 12:00:00 AM</td>\n",
       "      <td>VANDALISM</td>\n",
       "      <td>531</td>\n",
       "    </tr>\n",
       "    <tr>\n",
       "      <th>2</th>\n",
       "      <td>07/01/2012 12:00:00 AM</td>\n",
       "      <td>BURGLARY</td>\n",
       "      <td>522</td>\n",
       "    </tr>\n",
       "    <tr>\n",
       "      <th>3</th>\n",
       "      <td>07/01/2013 12:00:00 AM</td>\n",
       "      <td>LARCENY/THEFT</td>\n",
       "      <td>3318</td>\n",
       "    </tr>\n",
       "    <tr>\n",
       "      <th>4</th>\n",
       "      <td>08/01/2010 12:00:00 AM</td>\n",
       "      <td>VANDALISM</td>\n",
       "      <td>694</td>\n",
       "    </tr>\n",
       "  </tbody>\n",
       "</table>\n",
       "</div>"
      ],
      "text/plain": [
       "                     Date       Category  IncidntNum\n",
       "0  02/01/2014 12:00:00 AM       BURGLARY         506\n",
       "1  02/01/2007 12:00:00 AM      VANDALISM         531\n",
       "2  07/01/2012 12:00:00 AM       BURGLARY         522\n",
       "3  07/01/2013 12:00:00 AM  LARCENY/THEFT        3318\n",
       "4  08/01/2010 12:00:00 AM      VANDALISM         694"
      ]
     },
     "execution_count": 4,
     "metadata": {},
     "output_type": "execute_result"
    }
   ],
   "source": [
    "crimes.head()"
   ]
  },
  {
   "cell_type": "code",
   "execution_count": 5,
   "metadata": {},
   "outputs": [],
   "source": [
    "crimes['Date'] = pd.to_datetime(crimes['Date'])"
   ]
  },
  {
   "cell_type": "markdown",
   "metadata": {},
   "source": [
    "## Univariate Line Chart"
   ]
  },
  {
   "cell_type": "code",
   "execution_count": 6,
   "metadata": {},
   "outputs": [],
   "source": [
    "crimes_mean = pd.DataFrame(crimes.groupby('Date')['IncidntNum'].mean()).reset_index()"
   ]
  },
  {
   "cell_type": "code",
   "execution_count": 20,
   "metadata": {},
   "outputs": [
    {
     "data": {
      "text/plain": [
       "'file:///home/chris/0cadong/2DataViz/plotly-hw/basic-line.html'"
      ]
     },
     "execution_count": 20,
     "metadata": {},
     "output_type": "execute_result"
    }
   ],
   "source": [
    "trace = go.Scatter(\n",
    "    x = crimes_mean['Date'],\n",
    "    y = crimes_mean['IncidntNum']\n",
    ")\n",
    "\n",
    "data = [trace]\n",
    "\n",
    "layout = dict(title = 'Average Number of Incidents for SF Monthly Property Crime',\n",
    "             xaxis = dict(title = 'Year', nticks = 11), yaxis = dict(title = 'Number of Incidents'))\n",
    "\n",
    "fig = dict(data = data, layout = layout)\n",
    "\n",
    "plotly.offline.plot(fig, filename='plotly-hw/basic-line')"
   ]
  },
  {
   "cell_type": "markdown",
   "metadata": {},
   "source": [
    "## Multivariate Line Chart"
   ]
  },
  {
   "cell_type": "code",
   "execution_count": 25,
   "metadata": {},
   "outputs": [],
   "source": [
    "crimes_mean_category = pd.DataFrame(crimes.groupby(['Date', 'Category'])['IncidntNum'].mean()).reset_index()"
   ]
  },
  {
   "cell_type": "code",
   "execution_count": 36,
   "metadata": {},
   "outputs": [
    {
     "data": {
      "text/plain": [
       "'file:///home/chris/0cadong/2DataViz/plotly-hw/multi-line.html'"
      ]
     },
     "execution_count": 36,
     "metadata": {},
     "output_type": "execute_result"
    }
   ],
   "source": [
    "trace_list = []\n",
    "for crime in crimes_mean_category['Category'].drop_duplicates().tolist():\n",
    "    tmp = crimes_mean_category[crimes_mean_category['Category']==crime]\n",
    "    trace_list.append(go.Scatter(\n",
    "        x = tmp['Date'],\n",
    "        y = tmp['IncidntNum'],\n",
    "        name = crime\n",
    "    )\n",
    ")\n",
    "\n",
    "layout = dict(title = 'Average Number of Incidents for SF Monthly Property Crime by Category',\n",
    "              xaxis = dict(title = 'Year', nticks = 11), yaxis = dict(title = 'Number of Incidents'))\n",
    "\n",
    "fig = dict(data = trace_list, layout = layout)\n",
    "plotly.offline.plot(fig, filename='plotly-hw/multi-line')"
   ]
  },
  {
   "cell_type": "markdown",
   "metadata": {},
   "source": [
    "## Bar Chart"
   ]
  },
  {
   "cell_type": "code",
   "execution_count": 12,
   "metadata": {},
   "outputs": [
    {
     "name": "stderr",
     "output_type": "stream",
     "text": [
      "/home/chris/anaconda2/lib/python2.7/site-packages/plotly/offline/offline.py:459: UserWarning:\n",
      "\n",
      "Your filename `plotly-hw/bar-chart` didn't end with .html. Adding .html to the end of your file.\n",
      "\n"
     ]
    },
    {
     "data": {
      "text/plain": [
       "'file:///home/chris/0cadong/2DataViz/plotly-hw/bar-chart.html'"
      ]
     },
     "execution_count": 12,
     "metadata": {},
     "output_type": "execute_result"
    }
   ],
   "source": [
    "crimes_sum = pd.DataFrame(crimes.groupby('Category')['IncidntNum'].sum()).reset_index()\n",
    "\n",
    "data = [go.Bar(x = crimes_sum['Category'], \n",
    "              y = crimes_sum['IncidntNum'])]\n",
    "\n",
    "layout = dict(title = 'Total Number of Incidents for SF Monthly Property Crime by Category',\n",
    "              xaxis = dict(title = 'Year'), yaxis = dict(title = 'Number of Incidents'))\n",
    "\n",
    "fig = dict(data = data, layout = layout)\n",
    "\n",
    "plotly.offline.plot(fig, filename='plotly-hw/bar-chart')\n"
   ]
  },
  {
   "cell_type": "markdown",
   "metadata": {},
   "source": [
    "## Stacked Bar Chart"
   ]
  },
  {
   "cell_type": "code",
   "execution_count": 37,
   "metadata": {},
   "outputs": [
    {
     "data": {
      "text/plain": [
       "'file:///home/chris/0cadong/2DataViz/plotly-hw/stacked-bar-chart.html'"
      ]
     },
     "execution_count": 37,
     "metadata": {},
     "output_type": "execute_result"
    }
   ],
   "source": [
    "x = crimes_mean_category['Category'].drop_duplicates().tolist()\n",
    "crimes_sum = pd.DataFrame(crimes.groupby('Category')['IncidntNum'].sum()).reset_index()\n",
    "\n",
    "trace_list = []\n",
    "\n",
    "for crime in x:\n",
    "    trace_list.append(\n",
    "        go.Bar(\n",
    "            x = x,\n",
    "            y = crimes_sum[crimes_sum['Category'] == crime]['IncidntNum'],\n",
    "            name = crime\n",
    "        )\n",
    "    \n",
    "    )\n",
    "\n",
    "layout = go.Layout(barmode = 'stack', title = 'Stacked Bar Chart of SF Monthly Property Crime by Category')\n",
    "\n",
    "fig = go.Figure(data = trace_list, layout = layout)\n",
    "\n",
    "plotly.offline.plot(fig, filename='plotly-hw/stacked-bar-chart')"
   ]
  },
  {
   "cell_type": "markdown",
   "metadata": {},
   "source": [
    "## Heatmap"
   ]
  },
  {
   "cell_type": "code",
   "execution_count": 15,
   "metadata": {},
   "outputs": [],
   "source": [
    "crimes['Weekday'] = crimes['Date'].dt.weekday"
   ]
  },
  {
   "cell_type": "code",
   "execution_count": 16,
   "metadata": {},
   "outputs": [],
   "source": [
    "weekday_cat = pd.DataFrame(crimes.groupby(['Weekday', 'Category'])['IncidntNum'].mean()).reset_index()"
   ]
  },
  {
   "cell_type": "code",
   "execution_count": 17,
   "metadata": {},
   "outputs": [],
   "source": [
    "data_list = weekday_cat['IncidntNum']"
   ]
  },
  {
   "cell_type": "code",
   "execution_count": 18,
   "metadata": {},
   "outputs": [],
   "source": [
    "z = [data_list[x:x+6] for x in range(0, len(data_list), 6)]"
   ]
  },
  {
   "cell_type": "code",
   "execution_count": 19,
   "metadata": {},
   "outputs": [
    {
     "name": "stderr",
     "output_type": "stream",
     "text": [
      "/home/chris/anaconda2/lib/python2.7/site-packages/plotly/offline/offline.py:459: UserWarning:\n",
      "\n",
      "Your filename `plotly-hw/heatmap` didn't end with .html. Adding .html to the end of your file.\n",
      "\n"
     ]
    },
    {
     "data": {
      "text/plain": [
       "'file:///home/chris/0cadong/2DataViz/plotly-hw/heatmap.html'"
      ]
     },
     "execution_count": 19,
     "metadata": {},
     "output_type": "execute_result"
    }
   ],
   "source": [
    "trace = go.Heatmap(z=z,\n",
    "                   y=['Monday', 'Tuesday', 'Wednesday', 'Thursday', 'Friday', 'Saturday', 'Sunday'],\n",
    "                   x=weekday_cat.head(6)['Category'].tolist(), colorscale = 'Greens', reversescale = True)\n",
    "data=[trace]\n",
    "\n",
    "plotly.offline.plot(data, filename='plotly-hw/heatmap')"
   ]
  }
 ],
 "metadata": {
  "kernelspec": {
   "display_name": "Python 2",
   "language": "python",
   "name": "python2"
  },
  "language_info": {
   "codemirror_mode": {
    "name": "ipython",
    "version": 2
   },
   "file_extension": ".py",
   "mimetype": "text/x-python",
   "name": "python",
   "nbconvert_exporter": "python",
   "pygments_lexer": "ipython2",
   "version": "2.7.14"
  }
 },
 "nbformat": 4,
 "nbformat_minor": 2
}
